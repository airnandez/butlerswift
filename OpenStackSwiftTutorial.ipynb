{
 "cells": [
  {
   "cell_type": "markdown",
   "metadata": {},
   "source": [
    "# Tutorial for Interactig with OpenStack Swift from Python\n",
    "\n",
    "### Purpose\n",
    "\n",
    "The purpose of this notebook is to show how to interact with an instance of OpenStack Swift from Python. This notebook uses the official OpenStack SDK for Python and has been tested using Anancoda Python 3. Please note that not all the error checking best practices has been implemented in this tutorial for keeping the focus in the essential mechanics of the SDK in a reduced amount of code.\n",
    "\n",
    "### Reference documents\n",
    "\n",
    "* Source of the Python bindings to the OpenStack object storage API: [https://github.com/openstack/python-swiftclient](https://github.com/openstack/python-swiftclient)\n",
    "* `python-swiftclient` in PyPi: [https://pypi.python.org/pypi/python-swiftclient](https://pypi.python.org/pypi/python-swiftclient)\n",
    "* `swifclient` documentation: [http://docs.openstack.org/developer/python-swiftclient/swiftclient.html#swiftclient.client.head_object](http://docs.openstack.org/developer/python-swiftclient/swiftclient.html#swiftclient.client.head_object)"
   ]
  },
  {
   "cell_type": "markdown",
   "metadata": {},
   "source": [
    "### Connect to the OpenStack Swift service\n",
    "We use the OpenStack service credentials extracted from the environmental variables:\n",
    "\n",
    "* `OS_AUTH_URL`: authentication end point (Keystone)\n",
    "* `OS_USERNAME`: user name\n",
    "* `OS_TENANT_NAME`: tenant name\n",
    "* `OS_PASSWORD`: very long key\n",
    "\n",
    "You can specify your credentials directly in this notebook, if you wish. The values associated to this credentials must be provided to you by the administration of the OpenStack Swift instance you need to interact with."
   ]
  },
  {
   "cell_type": "code",
   "execution_count": 135,
   "metadata": {
    "collapsed": true
   },
   "outputs": [],
   "source": [
    "import os\n",
    "import datetime\n",
    "import tempfile\n",
    "import hashlib\n",
    "\n",
    "import swiftclient as swift\n",
    "import requests"
   ]
  },
  {
   "cell_type": "code",
   "execution_count": 136,
   "metadata": {
    "collapsed": true
   },
   "outputs": [],
   "source": [
    "authurl = os.getenv('OS_AUTH_URL', 'your_auth_endpoint')\n",
    "user = os.getenv('OS_USERNAME', 'your_username')\n",
    "tenant_name = os.getenv('OS_TENANT_NAME', 'your_tenant_name')\n",
    "key = os.getenv('OS_PASSWORD', 'your_password')\n",
    "\n",
    "conn = swift.Connection(authurl=authurl, user=user, key=key, tenant_name=tenant_name, auth_version='2')"
   ]
  },
  {
   "cell_type": "markdown",
   "metadata": {},
   "source": [
    "We have now a connection object `conn` through which we will interact with Swift.\n",
    "\n",
    "### Create a new container\n",
    "Let's create a new container for our tests, we will destroy later. The name of the container is composed of the prefix `butlerswift` followed by the user name and the creation timestamp.\n",
    "\n",
    "Creating a new container is an idempotent operation: if the container already exists it is a no-operation."
   ]
  },
  {
   "cell_type": "code",
   "execution_count": 147,
   "metadata": {
    "collapsed": false,
    "scrolled": true
   },
   "outputs": [],
   "source": [
    "container_prefix = 'butlerswift-{0}-'.format(user)\n",
    "container_name = container_prefix + '{:%Y%m%d%H%M%S}'.format(datetime.datetime.now())\n",
    "conn.put_container(container_name)"
   ]
  },
  {
   "cell_type": "markdown",
   "metadata": {},
   "source": [
    "### Check the existence of the container\n",
    "To check the existence of the container we issue an `HTTP HEAD` request. If the container exists, a set of `HTTP` headers associated to this container is returned in the form of a dictionary. We use the value of one of them, `x-container-object-count` which tells us the number of objects in the container."
   ]
  },
  {
   "cell_type": "code",
   "execution_count": 148,
   "metadata": {
    "collapsed": false
   },
   "outputs": [
    {
     "name": "stdout",
     "output_type": "stream",
     "text": [
      "Container 'butlerswift-fabio-20160902152905' does exist and contains 0 objects\n"
     ]
    }
   ],
   "source": [
    "try:\n",
    "    headers = conn.head_container(container_name)\n",
    "    num_objects = headers['x-container-object-count']\n",
    "    print(\"Container \\'{0}\\' does exist and contains {1} objects\".format(container_name, num_objects))\n",
    "except swift.ClientException as err:\n",
    "    print(\"Container \\'{0}\\' not found: {1}\".format(container_name, err))"
   ]
  },
  {
   "cell_type": "markdown",
   "metadata": {},
   "source": [
    "### Upload a new object into the container\n",
    "Download a sample FITS file and store it in our local disk. We will then use that file to upload it to Swift."
   ]
  },
  {
   "cell_type": "code",
   "execution_count": 149,
   "metadata": {
    "collapsed": false
   },
   "outputs": [],
   "source": [
    "def download_file(url):\n",
    "    \"\"\" Download a file from the argument url and store its contents in a local file\n",
    "    The name of the local file is built from the last component of the url path.\n",
    "    The file is downloaded only if there is no local file with the same name. Therefore, if this\n",
    "    function is called several times with the same url the file will be downloaded only once.\n",
    "    Returns the file name on disk.\n",
    "    \"\"\"\n",
    "    file_name = url.split('/')[-1]\n",
    "    if os.path.exists(file_name):\n",
    "        return file_name\n",
    "    \n",
    "    req = requests.get(url, stream=True)\n",
    "    with open(file_name, 'wb') as f:\n",
    "        for chunk in req.iter_content(chunk_size=1024*2014):\n",
    "            if chunk:\n",
    "                f.write(chunk)\n",
    "    return file_name\n",
    "    \n",
    "# Download a sample FITS file from http://fits.gsfc.nasa.gov/fits_samples.html\n",
    "url = \"http://fits.gsfc.nasa.gov/samples/WFPC2u5780205r_c0fx.fits\"\n",
    "file_name = download_file(url)"
   ]
  },
  {
   "cell_type": "markdown",
   "metadata": {},
   "source": [
    "Now upload the local FITS file to Swift:"
   ]
  },
  {
   "cell_type": "code",
   "execution_count": 150,
   "metadata": {
    "collapsed": false
   },
   "outputs": [],
   "source": [
    "# This is the object key: in Swift, an object is uniquely identified by the container it resides in and its object key.\n",
    "# The slash (/) characters in the key have no meaning for Swift.\n",
    "def get_file_size(file_name):\n",
    "    statinfo = os.stat(file_name)\n",
    "    return statinfo.st_size\n",
    "\n",
    "object_size = get_file_size(file_name)\n",
    "object_key = \"fits/\" + file_name\n",
    "\n",
    "with open(file_name, 'rb') as f:\n",
    "    # put_object returns the object's etag\n",
    "    etag = conn.put_object(container=container_name, obj=object_key, contents=f, content_length=object_size)"
   ]
  },
  {
   "cell_type": "markdown",
   "metadata": {},
   "source": [
    "### Check for the existence of a particular object\n",
    "To check the existence of an object within a container the SDK will issue an `HTTP HEAD` request. The Swift service responds with a dictionary of headers. We use the value of the header `content-length` to retrieve the size in bytes of the object."
   ]
  },
  {
   "cell_type": "code",
   "execution_count": 151,
   "metadata": {
    "collapsed": false
   },
   "outputs": [
    {
     "name": "stdout",
     "output_type": "stream",
     "text": [
      "Object 'fits/WFPC2u5780205r_c0fx.fits' does exist and contains 699840 bytes\n"
     ]
    }
   ],
   "source": [
    "try:\n",
    "    headers = conn.head_object(container_name, object_key)\n",
    "    count = headers['content-length']\n",
    "    print(\"Object \\'{0}\\' does exist and contains {1} bytes\".format(object_key, count))\n",
    "except swift.ClientException as err:\n",
    "    print(\"Object \\'{0}\\' not found: {1}\".format(object_key, err))"
   ]
  },
  {
   "cell_type": "markdown",
   "metadata": {},
   "source": [
    "### List all the objects of a container\n"
   ]
  },
  {
   "cell_type": "code",
   "execution_count": 152,
   "metadata": {
    "collapsed": false
   },
   "outputs": [
    {
     "name": "stdout",
     "output_type": "stream",
     "text": [
      "Container 'butlerswift-fabio-20160902152905':\n",
      "   number of bytes used: 699840\n",
      "   number of objects: 1\n",
      "\n",
      "Object details:\n",
      "    699840 fits/WFPC2u5780205r_c0fx.fits\n"
     ]
    }
   ],
   "source": [
    "try:\n",
    "    headers, objects = conn.get_container(container_name)\n",
    "    \n",
    "    # Show some information about this container\n",
    "    num_objects = int(headers['x-container-object-count'])\n",
    "    print(\"Container \\'{0}\\':\".format(container_name))\n",
    "    print(\"   number of bytes used:\", headers['x-container-bytes-used'])\n",
    "    print(\"   number of objects:\", num_objects)\n",
    "    \n",
    "    # Show some details of the objects of this container\n",
    "    if num_objects > 0:\n",
    "        print(\"\\nObject details:\")\n",
    "        for o in objects:\n",
    "            print(\"   \", o['bytes'], o['name'])\n",
    "        \n",
    "except swift.ClientException as err:\n",
    "    print(\"Container \\'{0}\\' not found: {1}\".format(container_name, err))"
   ]
  },
  {
   "cell_type": "markdown",
   "metadata": {},
   "source": [
    "### Download an object\n",
    "Here we download the contents of a Swift object to a disk file and compare its contents against the contents of the the original file uploaded above."
   ]
  },
  {
   "cell_type": "code",
   "execution_count": 153,
   "metadata": {
    "collapsed": true
   },
   "outputs": [],
   "source": [
    "def get_md5_digest(file_name):\n",
    "    \"\"\"Computes and returns the MD5 digest of a disk file\n",
    "    \"\"\"\n",
    "    hasher = hashlib.md5()\n",
    "    with open(file_name, 'rb') as f:\n",
    "        block_size = 64 * 1024\n",
    "        buffer = f.read(block_size)\n",
    "        while len(buffer) > 0:\n",
    "            hasher.update(buffer)\n",
    "            buffer = f.read(block_size)\n",
    "            \n",
    "    return hasher.hexdigest()"
   ]
  },
  {
   "cell_type": "code",
   "execution_count": 154,
   "metadata": {
    "collapsed": false
   },
   "outputs": [],
   "source": [
    "# Download a Swift object and compare its contents to the contents of the original file\n",
    "copy_file_name = 'copy-' + file_name\n",
    "try:\n",
    "    headers, contents = conn.get_object(container_name, object_key)\n",
    "    with open(copy_file_name, 'wb') as f:\n",
    "        f.write(contents)\n",
    "        \n",
    "    copy_md5 = get_md5_digest(copy_file_name)\n",
    "    original_md5 = get_md5_digest(file_name)\n",
    "    if copy_md5 != original_md5:\n",
    "        print(\"the contents of the uploaded file and the downloaded file do not match\")\n",
    "except swift.ClientException as err:\n",
    "    print(\"Could not download object \\'{0}/{1}\\' not found: {2}\".format(container_name, object_key, err))"
   ]
  },
  {
   "cell_type": "markdown",
   "metadata": {},
   "source": [
    "### Delete my containers\n",
    "Delete the containers created by the execution of this notebook, that is, the containers with prefix \"`butlerswift-user-`\""
   ]
  },
  {
   "cell_type": "code",
   "execution_count": 155,
   "metadata": {
    "collapsed": true
   },
   "outputs": [],
   "source": [
    "def delete_container(conn, container):\n",
    "    try:\n",
    "        # Delete all the objects in this container\n",
    "        headers, objects = conn.get_container(container)\n",
    "        for o in objects:\n",
    "            conn.delete_object(container, o['name'])\n",
    "        \n",
    "        # Delete the container itself\n",
    "        conn.delete_container(container)\n",
    "        \n",
    "    except swift.ClientException as err:\n",
    "        print(\"Error deleting \\'{0}\\' not found: {1}\".format(container, err))"
   ]
  },
  {
   "cell_type": "code",
   "execution_count": 156,
   "metadata": {
    "collapsed": false
   },
   "outputs": [
    {
     "name": "stdout",
     "output_type": "stream",
     "text": [
      "Deleting container 'butlerswift-fabio-20160902152905'\n"
     ]
    }
   ],
   "source": [
    "# Delete all my containers, i.e. all containers starting with prefix \"butlerswift-user-\"\n",
    "resp_headers, containers = conn.get_account()\n",
    "for c in containers:\n",
    "    name = c['name']\n",
    "    if name.startswith(container_prefix):\n",
    "        print(\"Deleting container \\'{}\\'\".format(name))\n",
    "        delete_container(conn, name)"
   ]
  }
 ],
 "metadata": {
  "kernelspec": {
   "display_name": "Python 3",
   "language": "python",
   "name": "python3"
  },
  "language_info": {
   "codemirror_mode": {
    "name": "ipython",
    "version": 3
   },
   "file_extension": ".py",
   "mimetype": "text/x-python",
   "name": "python",
   "nbconvert_exporter": "python",
   "pygments_lexer": "ipython3",
   "version": "3.5.2"
  }
 },
 "nbformat": 4,
 "nbformat_minor": 1
}
